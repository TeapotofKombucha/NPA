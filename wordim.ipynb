{
 "cells": [
  {
   "cell_type": "code",
   "execution_count": 14,
   "metadata": {},
   "outputs": [],
   "source": [
    "import docx\n",
    "import pickle   # Проверить огурчик, я вообще его использую?"
   ]
  },
  {
   "cell_type": "markdown",
   "metadata": {},
   "source": [
    "Утилита для переработки word в csv, сколочена на коленке из костылей и спагетти. Пока стоит обособленно для удобства контроля, и было решено на данном этапе конвертировать в txt для упрощения устранения ошибок внутри выходного файла\n",
    "\n",
    "p.s. сноски для личной шизы, чтоб не забывать штуки"
   ]
  },
  {
   "cell_type": "code",
   "execution_count": 81,
   "metadata": {},
   "outputs": [],
   "source": [
    "# Переменные и пр.     Не мусори!\n",
    "text = []\n",
    "red = []\n",
    "\n",
    "apo = '\"'\n",
    "apo1 = '\"\\n'\n",
    "aporaz = '\";\"'"
   ]
  },
  {
   "cell_type": "code",
   "execution_count": 91,
   "metadata": {},
   "outputs": [],
   "source": [
    "# Выбор файла. Записать вручную и перепроверить output\n",
    "doc = docx.Document('10.docx')\n",
    "for paragraph in doc.paragraphs:\n",
    "    text.append(paragraph.text)"
   ]
  },
  {
   "cell_type": "code",
   "execution_count": 92,
   "metadata": {},
   "outputs": [],
   "source": [
    "# Преобразование в list\n",
    "out = open('output.txt', 'w', encoding='utf-8')\n",
    "for x in text:\n",
    "    if \"{\" in x:\n",
    "        #if \". {\" in x:\n",
    "        #    x = x[5:]\n",
    "        #x = x[:-4]\n",
    "        #x = x.replace('{', '')\n",
    "        #x.replace(';', '')\n",
    "        #x.replace(\"'\", '')\n",
    "        #x.replace('\"', '')\n",
    "        #x = x.replace('}', aporaz)\n",
    "        #x = (f'{apo}{x}{apo1}')\n",
    "        out.write(x)\n",
    "        out.write('\\n')\n",
    "\n",
    "out.close()"
   ]
  }
 ],
 "metadata": {
  "kernelspec": {
   "display_name": "Python 3.9.13 64-bit (windows store)",
   "language": "python",
   "name": "python3"
  },
  "language_info": {
   "codemirror_mode": {
    "name": "ipython",
    "version": 3
   },
   "file_extension": ".py",
   "mimetype": "text/x-python",
   "name": "python",
   "nbconvert_exporter": "python",
   "pygments_lexer": "ipython3",
   "version": "3.9.13"
  },
  "orig_nbformat": 4,
  "vscode": {
   "interpreter": {
    "hash": "4529aa749598bf5c8569445694a5567b9fb6a528a218d00cf5a01e646883f00e"
   }
  }
 },
 "nbformat": 4,
 "nbformat_minor": 2
}
